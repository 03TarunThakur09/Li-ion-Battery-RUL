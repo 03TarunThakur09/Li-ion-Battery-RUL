{
 "cells": [
  {
   "cell_type": "code",
   "execution_count": 1,
   "id": "c03e26ca",
   "metadata": {},
   "outputs": [],
   "source": [
    "import numpy as np\n",
    "import pandas as pd\n",
    "import matplotlib.pyplot as plt\n",
    "%matplotlib inline\n",
    "import seaborn as sns"
   ]
  },
  {
   "cell_type": "code",
   "execution_count": 2,
   "id": "7d77cbe5",
   "metadata": {},
   "outputs": [],
   "source": [
    "df =pd.read_csv(\"Battery_RUL.csv\")"
   ]
  },
  {
   "cell_type": "code",
   "execution_count": 3,
   "id": "05329b38",
   "metadata": {},
   "outputs": [
    {
     "data": {
      "text/html": [
       "<div>\n",
       "<style scoped>\n",
       "    .dataframe tbody tr th:only-of-type {\n",
       "        vertical-align: middle;\n",
       "    }\n",
       "\n",
       "    .dataframe tbody tr th {\n",
       "        vertical-align: top;\n",
       "    }\n",
       "\n",
       "    .dataframe thead th {\n",
       "        text-align: right;\n",
       "    }\n",
       "</style>\n",
       "<table border=\"1\" class=\"dataframe\">\n",
       "  <thead>\n",
       "    <tr style=\"text-align: right;\">\n",
       "      <th></th>\n",
       "      <th>Cycle_Index</th>\n",
       "      <th>Discharge Time (s)</th>\n",
       "      <th>Decrement 3.6-3.4V (s)</th>\n",
       "      <th>Max. Voltage Dischar. (V)</th>\n",
       "      <th>Min. Voltage Charg. (V)</th>\n",
       "      <th>Time at 4.15V (s)</th>\n",
       "      <th>Time constant current (s)</th>\n",
       "      <th>Charging time (s)</th>\n",
       "      <th>RUL</th>\n",
       "    </tr>\n",
       "  </thead>\n",
       "  <tbody>\n",
       "    <tr>\n",
       "      <th>0</th>\n",
       "      <td>1.0</td>\n",
       "      <td>2595.30</td>\n",
       "      <td>1151.488500</td>\n",
       "      <td>3.670</td>\n",
       "      <td>3.211</td>\n",
       "      <td>5460.001</td>\n",
       "      <td>6755.01</td>\n",
       "      <td>10777.82</td>\n",
       "      <td>1112</td>\n",
       "    </tr>\n",
       "    <tr>\n",
       "      <th>1</th>\n",
       "      <td>2.0</td>\n",
       "      <td>7408.64</td>\n",
       "      <td>1172.512500</td>\n",
       "      <td>4.246</td>\n",
       "      <td>3.220</td>\n",
       "      <td>5508.992</td>\n",
       "      <td>6762.02</td>\n",
       "      <td>10500.35</td>\n",
       "      <td>1111</td>\n",
       "    </tr>\n",
       "    <tr>\n",
       "      <th>2</th>\n",
       "      <td>3.0</td>\n",
       "      <td>7393.76</td>\n",
       "      <td>1112.992000</td>\n",
       "      <td>4.249</td>\n",
       "      <td>3.224</td>\n",
       "      <td>5508.993</td>\n",
       "      <td>6762.02</td>\n",
       "      <td>10420.38</td>\n",
       "      <td>1110</td>\n",
       "    </tr>\n",
       "    <tr>\n",
       "      <th>3</th>\n",
       "      <td>4.0</td>\n",
       "      <td>7385.50</td>\n",
       "      <td>1080.320667</td>\n",
       "      <td>4.250</td>\n",
       "      <td>3.225</td>\n",
       "      <td>5502.016</td>\n",
       "      <td>6762.02</td>\n",
       "      <td>10322.81</td>\n",
       "      <td>1109</td>\n",
       "    </tr>\n",
       "    <tr>\n",
       "      <th>4</th>\n",
       "      <td>6.0</td>\n",
       "      <td>65022.75</td>\n",
       "      <td>29813.487000</td>\n",
       "      <td>4.290</td>\n",
       "      <td>3.398</td>\n",
       "      <td>5480.992</td>\n",
       "      <td>53213.54</td>\n",
       "      <td>56699.65</td>\n",
       "      <td>1107</td>\n",
       "    </tr>\n",
       "  </tbody>\n",
       "</table>\n",
       "</div>"
      ],
      "text/plain": [
       "   Cycle_Index  Discharge Time (s)  Decrement 3.6-3.4V (s)  \\\n",
       "0          1.0             2595.30             1151.488500   \n",
       "1          2.0             7408.64             1172.512500   \n",
       "2          3.0             7393.76             1112.992000   \n",
       "3          4.0             7385.50             1080.320667   \n",
       "4          6.0            65022.75            29813.487000   \n",
       "\n",
       "   Max. Voltage Dischar. (V)  Min. Voltage Charg. (V)  Time at 4.15V (s)  \\\n",
       "0                      3.670                    3.211           5460.001   \n",
       "1                      4.246                    3.220           5508.992   \n",
       "2                      4.249                    3.224           5508.993   \n",
       "3                      4.250                    3.225           5502.016   \n",
       "4                      4.290                    3.398           5480.992   \n",
       "\n",
       "   Time constant current (s)  Charging time (s)   RUL  \n",
       "0                    6755.01           10777.82  1112  \n",
       "1                    6762.02           10500.35  1111  \n",
       "2                    6762.02           10420.38  1110  \n",
       "3                    6762.02           10322.81  1109  \n",
       "4                   53213.54           56699.65  1107  "
      ]
     },
     "execution_count": 3,
     "metadata": {},
     "output_type": "execute_result"
    }
   ],
   "source": [
    "df.head()"
   ]
  },
  {
   "cell_type": "code",
   "execution_count": 4,
   "id": "c851a300",
   "metadata": {},
   "outputs": [
    {
     "data": {
      "text/plain": [
       "Cycle_Index                  0\n",
       "Discharge Time (s)           0\n",
       "Decrement 3.6-3.4V (s)       0\n",
       "Max. Voltage Dischar. (V)    0\n",
       "Min. Voltage Charg. (V)      0\n",
       "Time at 4.15V (s)            0\n",
       "Time constant current (s)    0\n",
       "Charging time (s)            0\n",
       "RUL                          0\n",
       "dtype: int64"
      ]
     },
     "execution_count": 4,
     "metadata": {},
     "output_type": "execute_result"
    }
   ],
   "source": [
    "df.isnull().sum()"
   ]
  },
  {
   "cell_type": "code",
   "execution_count": 5,
   "id": "2d49dd57",
   "metadata": {},
   "outputs": [
    {
     "name": "stdout",
     "output_type": "stream",
     "text": [
      "<class 'pandas.core.frame.DataFrame'>\n",
      "RangeIndex: 15064 entries, 0 to 15063\n",
      "Data columns (total 9 columns):\n",
      " #   Column                     Non-Null Count  Dtype  \n",
      "---  ------                     --------------  -----  \n",
      " 0   Cycle_Index                15064 non-null  float64\n",
      " 1   Discharge Time (s)         15064 non-null  float64\n",
      " 2   Decrement 3.6-3.4V (s)     15064 non-null  float64\n",
      " 3   Max. Voltage Dischar. (V)  15064 non-null  float64\n",
      " 4   Min. Voltage Charg. (V)    15064 non-null  float64\n",
      " 5   Time at 4.15V (s)          15064 non-null  float64\n",
      " 6   Time constant current (s)  15064 non-null  float64\n",
      " 7   Charging time (s)          15064 non-null  float64\n",
      " 8   RUL                        15064 non-null  int64  \n",
      "dtypes: float64(8), int64(1)\n",
      "memory usage: 1.0 MB\n"
     ]
    }
   ],
   "source": [
    "df.info()"
   ]
  },
  {
   "cell_type": "code",
   "execution_count": 6,
   "id": "c3a1eabd",
   "metadata": {},
   "outputs": [
    {
     "data": {
      "text/plain": [
       "Index(['Cycle_Index', 'Discharge Time (s)', 'Decrement 3.6-3.4V (s)',\n",
       "       'Max. Voltage Dischar. (V)', 'Min. Voltage Charg. (V)',\n",
       "       'Time at 4.15V (s)', 'Time constant current (s)', 'Charging time (s)',\n",
       "       'RUL'],\n",
       "      dtype='object')"
      ]
     },
     "execution_count": 6,
     "metadata": {},
     "output_type": "execute_result"
    }
   ],
   "source": [
    "df.columns\n"
   ]
  },
  {
   "cell_type": "code",
   "execution_count": 7,
   "id": "8e05cd3c",
   "metadata": {},
   "outputs": [
    {
     "data": {
      "text/html": [
       "<div>\n",
       "<style scoped>\n",
       "    .dataframe tbody tr th:only-of-type {\n",
       "        vertical-align: middle;\n",
       "    }\n",
       "\n",
       "    .dataframe tbody tr th {\n",
       "        vertical-align: top;\n",
       "    }\n",
       "\n",
       "    .dataframe thead th {\n",
       "        text-align: right;\n",
       "    }\n",
       "</style>\n",
       "<table border=\"1\" class=\"dataframe\">\n",
       "  <thead>\n",
       "    <tr style=\"text-align: right;\">\n",
       "      <th></th>\n",
       "      <th>Cycle_Index</th>\n",
       "      <th>Discharge Time (s)</th>\n",
       "      <th>Decrement 3.6-3.4V (s)</th>\n",
       "      <th>Max. Voltage Dischar. (V)</th>\n",
       "      <th>Min. Voltage Charg. (V)</th>\n",
       "      <th>Time at 4.15V (s)</th>\n",
       "      <th>Time constant current (s)</th>\n",
       "      <th>Charging time (s)</th>\n",
       "      <th>RUL</th>\n",
       "    </tr>\n",
       "  </thead>\n",
       "  <tbody>\n",
       "    <tr>\n",
       "      <th>count</th>\n",
       "      <td>15064.000000</td>\n",
       "      <td>15064.000000</td>\n",
       "      <td>15064.000000</td>\n",
       "      <td>15064.000000</td>\n",
       "      <td>15064.000000</td>\n",
       "      <td>15064.000000</td>\n",
       "      <td>15064.000000</td>\n",
       "      <td>15064.000000</td>\n",
       "      <td>15064.000000</td>\n",
       "    </tr>\n",
       "    <tr>\n",
       "      <th>mean</th>\n",
       "      <td>556.155005</td>\n",
       "      <td>4581.273960</td>\n",
       "      <td>1239.784672</td>\n",
       "      <td>3.908176</td>\n",
       "      <td>3.577904</td>\n",
       "      <td>3768.336171</td>\n",
       "      <td>5461.266970</td>\n",
       "      <td>10066.496204</td>\n",
       "      <td>554.194172</td>\n",
       "    </tr>\n",
       "    <tr>\n",
       "      <th>std</th>\n",
       "      <td>322.378480</td>\n",
       "      <td>33144.012077</td>\n",
       "      <td>15039.589269</td>\n",
       "      <td>0.091003</td>\n",
       "      <td>0.123695</td>\n",
       "      <td>9129.552477</td>\n",
       "      <td>25155.845202</td>\n",
       "      <td>26415.354121</td>\n",
       "      <td>322.434514</td>\n",
       "    </tr>\n",
       "    <tr>\n",
       "      <th>min</th>\n",
       "      <td>1.000000</td>\n",
       "      <td>8.690000</td>\n",
       "      <td>-397645.908000</td>\n",
       "      <td>3.043000</td>\n",
       "      <td>3.022000</td>\n",
       "      <td>-113.584000</td>\n",
       "      <td>5.980000</td>\n",
       "      <td>5.980000</td>\n",
       "      <td>0.000000</td>\n",
       "    </tr>\n",
       "    <tr>\n",
       "      <th>25%</th>\n",
       "      <td>271.000000</td>\n",
       "      <td>1169.310000</td>\n",
       "      <td>319.600000</td>\n",
       "      <td>3.846000</td>\n",
       "      <td>3.488000</td>\n",
       "      <td>1828.884179</td>\n",
       "      <td>2564.310000</td>\n",
       "      <td>7841.922500</td>\n",
       "      <td>277.000000</td>\n",
       "    </tr>\n",
       "    <tr>\n",
       "      <th>50%</th>\n",
       "      <td>560.000000</td>\n",
       "      <td>1557.250000</td>\n",
       "      <td>439.239471</td>\n",
       "      <td>3.906000</td>\n",
       "      <td>3.574000</td>\n",
       "      <td>2930.203500</td>\n",
       "      <td>3824.260000</td>\n",
       "      <td>8320.415000</td>\n",
       "      <td>551.000000</td>\n",
       "    </tr>\n",
       "    <tr>\n",
       "      <th>75%</th>\n",
       "      <td>833.000000</td>\n",
       "      <td>1908.000000</td>\n",
       "      <td>600.000000</td>\n",
       "      <td>3.972000</td>\n",
       "      <td>3.663000</td>\n",
       "      <td>4088.326500</td>\n",
       "      <td>5012.350000</td>\n",
       "      <td>8763.282500</td>\n",
       "      <td>839.000000</td>\n",
       "    </tr>\n",
       "    <tr>\n",
       "      <th>max</th>\n",
       "      <td>1134.000000</td>\n",
       "      <td>958320.370000</td>\n",
       "      <td>406703.768000</td>\n",
       "      <td>4.363000</td>\n",
       "      <td>4.379000</td>\n",
       "      <td>245101.117000</td>\n",
       "      <td>880728.100000</td>\n",
       "      <td>880728.100000</td>\n",
       "      <td>1133.000000</td>\n",
       "    </tr>\n",
       "  </tbody>\n",
       "</table>\n",
       "</div>"
      ],
      "text/plain": [
       "        Cycle_Index  Discharge Time (s)  Decrement 3.6-3.4V (s)  \\\n",
       "count  15064.000000        15064.000000            15064.000000   \n",
       "mean     556.155005         4581.273960             1239.784672   \n",
       "std      322.378480        33144.012077            15039.589269   \n",
       "min        1.000000            8.690000          -397645.908000   \n",
       "25%      271.000000         1169.310000              319.600000   \n",
       "50%      560.000000         1557.250000              439.239471   \n",
       "75%      833.000000         1908.000000              600.000000   \n",
       "max     1134.000000       958320.370000           406703.768000   \n",
       "\n",
       "       Max. Voltage Dischar. (V)  Min. Voltage Charg. (V)  Time at 4.15V (s)  \\\n",
       "count               15064.000000             15064.000000       15064.000000   \n",
       "mean                    3.908176                 3.577904        3768.336171   \n",
       "std                     0.091003                 0.123695        9129.552477   \n",
       "min                     3.043000                 3.022000        -113.584000   \n",
       "25%                     3.846000                 3.488000        1828.884179   \n",
       "50%                     3.906000                 3.574000        2930.203500   \n",
       "75%                     3.972000                 3.663000        4088.326500   \n",
       "max                     4.363000                 4.379000      245101.117000   \n",
       "\n",
       "       Time constant current (s)  Charging time (s)           RUL  \n",
       "count               15064.000000       15064.000000  15064.000000  \n",
       "mean                 5461.266970       10066.496204    554.194172  \n",
       "std                 25155.845202       26415.354121    322.434514  \n",
       "min                     5.980000           5.980000      0.000000  \n",
       "25%                  2564.310000        7841.922500    277.000000  \n",
       "50%                  3824.260000        8320.415000    551.000000  \n",
       "75%                  5012.350000        8763.282500    839.000000  \n",
       "max                880728.100000      880728.100000   1133.000000  "
      ]
     },
     "execution_count": 7,
     "metadata": {},
     "output_type": "execute_result"
    }
   ],
   "source": [
    "# Let's describe the data\n",
    "df.describe()"
   ]
  },
  {
   "cell_type": "code",
   "execution_count": 8,
   "id": "2e5f56c1",
   "metadata": {},
   "outputs": [
    {
     "data": {
      "text/html": [
       "<div>\n",
       "<style scoped>\n",
       "    .dataframe tbody tr th:only-of-type {\n",
       "        vertical-align: middle;\n",
       "    }\n",
       "\n",
       "    .dataframe tbody tr th {\n",
       "        vertical-align: top;\n",
       "    }\n",
       "\n",
       "    .dataframe thead th {\n",
       "        text-align: right;\n",
       "    }\n",
       "</style>\n",
       "<table border=\"1\" class=\"dataframe\">\n",
       "  <thead>\n",
       "    <tr style=\"text-align: right;\">\n",
       "      <th></th>\n",
       "      <th>Cycle_Index</th>\n",
       "      <th>Discharge Time (s)</th>\n",
       "      <th>Decrement 3.6-3.4V (s)</th>\n",
       "      <th>Max. Voltage Dischar. (V)</th>\n",
       "      <th>Min. Voltage Charg. (V)</th>\n",
       "      <th>Time at 4.15V (s)</th>\n",
       "      <th>Time constant current (s)</th>\n",
       "      <th>Charging time (s)</th>\n",
       "      <th>RUL</th>\n",
       "    </tr>\n",
       "  </thead>\n",
       "  <tbody>\n",
       "    <tr>\n",
       "      <th>Cycle_Index</th>\n",
       "      <td>1.000000</td>\n",
       "      <td>-0.011925</td>\n",
       "      <td>-0.012090</td>\n",
       "      <td>-0.782859</td>\n",
       "      <td>0.759850</td>\n",
       "      <td>-0.176486</td>\n",
       "      <td>-0.040622</td>\n",
       "      <td>-0.018305</td>\n",
       "      <td>-0.999756</td>\n",
       "    </tr>\n",
       "    <tr>\n",
       "      <th>Discharge Time (s)</th>\n",
       "      <td>-0.011925</td>\n",
       "      <td>1.000000</td>\n",
       "      <td>0.444984</td>\n",
       "      <td>0.349161</td>\n",
       "      <td>-0.239410</td>\n",
       "      <td>0.776720</td>\n",
       "      <td>0.912536</td>\n",
       "      <td>0.935544</td>\n",
       "      <td>0.011957</td>\n",
       "    </tr>\n",
       "    <tr>\n",
       "      <th>Decrement 3.6-3.4V (s)</th>\n",
       "      <td>-0.012090</td>\n",
       "      <td>0.444984</td>\n",
       "      <td>1.000000</td>\n",
       "      <td>0.199470</td>\n",
       "      <td>-0.132765</td>\n",
       "      <td>0.477091</td>\n",
       "      <td>0.343228</td>\n",
       "      <td>0.371610</td>\n",
       "      <td>0.011998</td>\n",
       "    </tr>\n",
       "    <tr>\n",
       "      <th>Max. Voltage Dischar. (V)</th>\n",
       "      <td>-0.782859</td>\n",
       "      <td>0.349161</td>\n",
       "      <td>0.199470</td>\n",
       "      <td>1.000000</td>\n",
       "      <td>-0.718182</td>\n",
       "      <td>0.446070</td>\n",
       "      <td>0.286886</td>\n",
       "      <td>0.269009</td>\n",
       "      <td>0.782800</td>\n",
       "    </tr>\n",
       "    <tr>\n",
       "      <th>Min. Voltage Charg. (V)</th>\n",
       "      <td>0.759850</td>\n",
       "      <td>-0.239410</td>\n",
       "      <td>-0.132765</td>\n",
       "      <td>-0.718182</td>\n",
       "      <td>1.000000</td>\n",
       "      <td>-0.344098</td>\n",
       "      <td>-0.216840</td>\n",
       "      <td>-0.200423</td>\n",
       "      <td>-0.759805</td>\n",
       "    </tr>\n",
       "    <tr>\n",
       "      <th>Time at 4.15V (s)</th>\n",
       "      <td>-0.176486</td>\n",
       "      <td>0.776720</td>\n",
       "      <td>0.477091</td>\n",
       "      <td>0.446070</td>\n",
       "      <td>-0.344098</td>\n",
       "      <td>1.000000</td>\n",
       "      <td>0.568922</td>\n",
       "      <td>0.676859</td>\n",
       "      <td>0.176514</td>\n",
       "    </tr>\n",
       "    <tr>\n",
       "      <th>Time constant current (s)</th>\n",
       "      <td>-0.040622</td>\n",
       "      <td>0.912536</td>\n",
       "      <td>0.343228</td>\n",
       "      <td>0.286886</td>\n",
       "      <td>-0.216840</td>\n",
       "      <td>0.568922</td>\n",
       "      <td>1.000000</td>\n",
       "      <td>0.953522</td>\n",
       "      <td>0.040675</td>\n",
       "    </tr>\n",
       "    <tr>\n",
       "      <th>Charging time (s)</th>\n",
       "      <td>-0.018305</td>\n",
       "      <td>0.935544</td>\n",
       "      <td>0.371610</td>\n",
       "      <td>0.269009</td>\n",
       "      <td>-0.200423</td>\n",
       "      <td>0.676859</td>\n",
       "      <td>0.953522</td>\n",
       "      <td>1.000000</td>\n",
       "      <td>0.018299</td>\n",
       "    </tr>\n",
       "    <tr>\n",
       "      <th>RUL</th>\n",
       "      <td>-0.999756</td>\n",
       "      <td>0.011957</td>\n",
       "      <td>0.011998</td>\n",
       "      <td>0.782800</td>\n",
       "      <td>-0.759805</td>\n",
       "      <td>0.176514</td>\n",
       "      <td>0.040675</td>\n",
       "      <td>0.018299</td>\n",
       "      <td>1.000000</td>\n",
       "    </tr>\n",
       "  </tbody>\n",
       "</table>\n",
       "</div>"
      ],
      "text/plain": [
       "                           Cycle_Index  Discharge Time (s)  \\\n",
       "Cycle_Index                   1.000000           -0.011925   \n",
       "Discharge Time (s)           -0.011925            1.000000   \n",
       "Decrement 3.6-3.4V (s)       -0.012090            0.444984   \n",
       "Max. Voltage Dischar. (V)    -0.782859            0.349161   \n",
       "Min. Voltage Charg. (V)       0.759850           -0.239410   \n",
       "Time at 4.15V (s)            -0.176486            0.776720   \n",
       "Time constant current (s)    -0.040622            0.912536   \n",
       "Charging time (s)            -0.018305            0.935544   \n",
       "RUL                          -0.999756            0.011957   \n",
       "\n",
       "                           Decrement 3.6-3.4V (s)  Max. Voltage Dischar. (V)  \\\n",
       "Cycle_Index                             -0.012090                  -0.782859   \n",
       "Discharge Time (s)                       0.444984                   0.349161   \n",
       "Decrement 3.6-3.4V (s)                   1.000000                   0.199470   \n",
       "Max. Voltage Dischar. (V)                0.199470                   1.000000   \n",
       "Min. Voltage Charg. (V)                 -0.132765                  -0.718182   \n",
       "Time at 4.15V (s)                        0.477091                   0.446070   \n",
       "Time constant current (s)                0.343228                   0.286886   \n",
       "Charging time (s)                        0.371610                   0.269009   \n",
       "RUL                                      0.011998                   0.782800   \n",
       "\n",
       "                           Min. Voltage Charg. (V)  Time at 4.15V (s)  \\\n",
       "Cycle_Index                               0.759850          -0.176486   \n",
       "Discharge Time (s)                       -0.239410           0.776720   \n",
       "Decrement 3.6-3.4V (s)                   -0.132765           0.477091   \n",
       "Max. Voltage Dischar. (V)                -0.718182           0.446070   \n",
       "Min. Voltage Charg. (V)                   1.000000          -0.344098   \n",
       "Time at 4.15V (s)                        -0.344098           1.000000   \n",
       "Time constant current (s)                -0.216840           0.568922   \n",
       "Charging time (s)                        -0.200423           0.676859   \n",
       "RUL                                      -0.759805           0.176514   \n",
       "\n",
       "                           Time constant current (s)  Charging time (s)  \\\n",
       "Cycle_Index                                -0.040622          -0.018305   \n",
       "Discharge Time (s)                          0.912536           0.935544   \n",
       "Decrement 3.6-3.4V (s)                      0.343228           0.371610   \n",
       "Max. Voltage Dischar. (V)                   0.286886           0.269009   \n",
       "Min. Voltage Charg. (V)                    -0.216840          -0.200423   \n",
       "Time at 4.15V (s)                           0.568922           0.676859   \n",
       "Time constant current (s)                   1.000000           0.953522   \n",
       "Charging time (s)                           0.953522           1.000000   \n",
       "RUL                                         0.040675           0.018299   \n",
       "\n",
       "                                RUL  \n",
       "Cycle_Index               -0.999756  \n",
       "Discharge Time (s)         0.011957  \n",
       "Decrement 3.6-3.4V (s)     0.011998  \n",
       "Max. Voltage Dischar. (V)  0.782800  \n",
       "Min. Voltage Charg. (V)   -0.759805  \n",
       "Time at 4.15V (s)          0.176514  \n",
       "Time constant current (s)  0.040675  \n",
       "Charging time (s)          0.018299  \n",
       "RUL                        1.000000  "
      ]
     },
     "execution_count": 8,
     "metadata": {},
     "output_type": "execute_result"
    }
   ],
   "source": [
    "# Correlation\n",
    "df.corr()"
   ]
  },
  {
   "cell_type": "markdown",
   "id": "837e4946",
   "metadata": {},
   "source": [
    "## Here You can see cycle_index is highly correlated, is this data. I do feel cycle index cause data leakage as it inversely related to RUL. So I will take it out here. I may need domain expert to have better insight!"
   ]
  },
  {
   "cell_type": "code",
   "execution_count": 9,
   "id": "dd85e527",
   "metadata": {},
   "outputs": [],
   "source": [
    "# Exploratory Data Analysis\n",
    "#sns.pairplot(df)"
   ]
  },
  {
   "cell_type": "code",
   "execution_count": 10,
   "id": "d18e5a34",
   "metadata": {},
   "outputs": [
    {
     "data": {
      "text/plain": [
       "<AxesSubplot:>"
      ]
     },
     "execution_count": 10,
     "metadata": {},
     "output_type": "execute_result"
    },
    {
     "data": {
      "image/png": "[encoded data removed]",
      "text/plain": [
       "<Figure size 432x288 with 2 Axes>"
      ]
     },
     "metadata": {
      "needs_background": "light"
     },
     "output_type": "display_data"
    }
   ],
   "source": [
    "sns.heatmap(df.corr())"
   ]
  },
  {
   "cell_type": "code",
   "execution_count": 11,
   "id": "fcbad37f",
   "metadata": {},
   "outputs": [
    {
     "data": {
      "image/png": "[encoded data removed]",
      "text/plain": [
       "<Figure size 432x288 with 1 Axes>"
      ]
     },
     "metadata": {
      "needs_background": "light"
     },
     "output_type": "display_data"
    }
   ],
   "source": [
    "plt.scatter(df[\"Cycle_Index\"],df[\"RUL\"])\n",
    "plt.xlabel(\"Cycle index\")\n",
    "plt.ylabel(\"RUL\")\n",
    "plt.show()"
   ]
  },
  {
   "cell_type": "code",
   "execution_count": 12,
   "id": "094155d0",
   "metadata": {},
   "outputs": [
    {
     "data": {
      "text/plain": [
       "<AxesSubplot:xlabel='Discharge Time (s)', ylabel='RUL'>"
      ]
     },
     "execution_count": 12,
     "metadata": {},
     "output_type": "execute_result"
    },
    {
     "data": {
      "image/png": "[encoded data removed]",
      "text/plain": [
       "<Figure size 432x288 with 1 Axes>"
      ]
     },
     "metadata": {
      "needs_background": "light"
     },
     "output_type": "display_data"
    }
   ],
   "source": [
    "sns.regplot(x=\"Discharge Time (s)\",y=\"RUL\", data = df)"
   ]
  },
  {
   "cell_type": "code",
   "execution_count": 13,
   "id": "61df8f08",
   "metadata": {},
   "outputs": [
    {
     "data": {
      "text/plain": [
       "<AxesSubplot:xlabel='Charging time (s)', ylabel='RUL'>"
      ]
     },
     "execution_count": 13,
     "metadata": {},
     "output_type": "execute_result"
    },
    {
     "data": {
      "image/png": "[encoded data removed]",
      "text/plain": [
       "<Figure size 432x288 with 1 Axes>"
      ]
     },
     "metadata": {
      "needs_background": "light"
     },
     "output_type": "display_data"
    }
   ],
   "source": [
    "sns.regplot(x='Charging time (s)',y=\"RUL\", data = df)"
   ]
  },
  {
   "cell_type": "code",
   "execution_count": 14,
   "id": "3ce12f79",
   "metadata": {},
   "outputs": [
    {
     "data": {
      "text/plain": [
       "<AxesSubplot:xlabel='Max. Voltage Dischar. (V)', ylabel='RUL'>"
      ]
     },
     "execution_count": 14,
     "metadata": {},
     "output_type": "execute_result"
    },
    {
     "data": {
      "image/png": "[encoded data removed]",
      "text/plain": [
       "<Figure size 432x288 with 1 Axes>"
      ]
     },
     "metadata": {
      "needs_background": "light"
     },
     "output_type": "display_data"
    }
   ],
   "source": [
    "sns.regplot(x='Max. Voltage Dischar. (V)',y=\"RUL\", data = df)"
   ]
  },
  {
   "cell_type": "code",
   "execution_count": 15,
   "id": "6f880391",
   "metadata": {},
   "outputs": [],
   "source": [
    "df1 = df.drop([\"Cycle_Index\"],axis=1,inplace=True)\n",
    "df1"
   ]
  },
  {
   "cell_type": "code",
   "execution_count": 16,
   "id": "d9e96ce7",
   "metadata": {},
   "outputs": [],
   "source": [
    "# Split the data into dependent and independdent data\n",
    "x = df.iloc[:,:-1]\n",
    "y = df.iloc[:,-1]"
   ]
  },
  {
   "cell_type": "code",
   "execution_count": 17,
   "id": "de9a58ab",
   "metadata": {},
   "outputs": [
    {
     "data": {
      "text/html": [
       "<div>\n",
       "<style scoped>\n",
       "    .dataframe tbody tr th:only-of-type {\n",
       "        vertical-align: middle;\n",
       "    }\n",
       "\n",
       "    .dataframe tbody tr th {\n",
       "        vertical-align: top;\n",
       "    }\n",
       "\n",
       "    .dataframe thead th {\n",
       "        text-align: right;\n",
       "    }\n",
       "</style>\n",
       "<table border=\"1\" class=\"dataframe\">\n",
       "  <thead>\n",
       "    <tr style=\"text-align: right;\">\n",
       "      <th></th>\n",
       "      <th>Discharge Time (s)</th>\n",
       "      <th>Decrement 3.6-3.4V (s)</th>\n",
       "      <th>Max. Voltage Dischar. (V)</th>\n",
       "      <th>Min. Voltage Charg. (V)</th>\n",
       "      <th>Time at 4.15V (s)</th>\n",
       "      <th>Time constant current (s)</th>\n",
       "      <th>Charging time (s)</th>\n",
       "    </tr>\n",
       "  </thead>\n",
       "  <tbody>\n",
       "    <tr>\n",
       "      <th>0</th>\n",
       "      <td>2595.30</td>\n",
       "      <td>1151.488500</td>\n",
       "      <td>3.670</td>\n",
       "      <td>3.211</td>\n",
       "      <td>5460.001</td>\n",
       "      <td>6755.01</td>\n",
       "      <td>10777.82</td>\n",
       "    </tr>\n",
       "    <tr>\n",
       "      <th>1</th>\n",
       "      <td>7408.64</td>\n",
       "      <td>1172.512500</td>\n",
       "      <td>4.246</td>\n",
       "      <td>3.220</td>\n",
       "      <td>5508.992</td>\n",
       "      <td>6762.02</td>\n",
       "      <td>10500.35</td>\n",
       "    </tr>\n",
       "    <tr>\n",
       "      <th>2</th>\n",
       "      <td>7393.76</td>\n",
       "      <td>1112.992000</td>\n",
       "      <td>4.249</td>\n",
       "      <td>3.224</td>\n",
       "      <td>5508.993</td>\n",
       "      <td>6762.02</td>\n",
       "      <td>10420.38</td>\n",
       "    </tr>\n",
       "    <tr>\n",
       "      <th>3</th>\n",
       "      <td>7385.50</td>\n",
       "      <td>1080.320667</td>\n",
       "      <td>4.250</td>\n",
       "      <td>3.225</td>\n",
       "      <td>5502.016</td>\n",
       "      <td>6762.02</td>\n",
       "      <td>10322.81</td>\n",
       "    </tr>\n",
       "    <tr>\n",
       "      <th>4</th>\n",
       "      <td>65022.75</td>\n",
       "      <td>29813.487000</td>\n",
       "      <td>4.290</td>\n",
       "      <td>3.398</td>\n",
       "      <td>5480.992</td>\n",
       "      <td>53213.54</td>\n",
       "      <td>56699.65</td>\n",
       "    </tr>\n",
       "    <tr>\n",
       "      <th>...</th>\n",
       "      <td>...</td>\n",
       "      <td>...</td>\n",
       "      <td>...</td>\n",
       "      <td>...</td>\n",
       "      <td>...</td>\n",
       "      <td>...</td>\n",
       "      <td>...</td>\n",
       "    </tr>\n",
       "    <tr>\n",
       "      <th>15059</th>\n",
       "      <td>770.44</td>\n",
       "      <td>179.523810</td>\n",
       "      <td>3.773</td>\n",
       "      <td>3.742</td>\n",
       "      <td>922.775</td>\n",
       "      <td>1412.38</td>\n",
       "      <td>6678.88</td>\n",
       "    </tr>\n",
       "    <tr>\n",
       "      <th>15060</th>\n",
       "      <td>771.12</td>\n",
       "      <td>179.523810</td>\n",
       "      <td>3.773</td>\n",
       "      <td>3.744</td>\n",
       "      <td>915.512</td>\n",
       "      <td>1412.31</td>\n",
       "      <td>6670.38</td>\n",
       "    </tr>\n",
       "    <tr>\n",
       "      <th>15061</th>\n",
       "      <td>769.12</td>\n",
       "      <td>179.357143</td>\n",
       "      <td>3.773</td>\n",
       "      <td>3.742</td>\n",
       "      <td>915.513</td>\n",
       "      <td>1412.31</td>\n",
       "      <td>6637.12</td>\n",
       "    </tr>\n",
       "    <tr>\n",
       "      <th>15062</th>\n",
       "      <td>773.88</td>\n",
       "      <td>162.374667</td>\n",
       "      <td>3.763</td>\n",
       "      <td>3.839</td>\n",
       "      <td>539.375</td>\n",
       "      <td>1148.00</td>\n",
       "      <td>7660.62</td>\n",
       "    </tr>\n",
       "    <tr>\n",
       "      <th>15063</th>\n",
       "      <td>677537.27</td>\n",
       "      <td>142740.640000</td>\n",
       "      <td>4.206</td>\n",
       "      <td>3.305</td>\n",
       "      <td>49680.004</td>\n",
       "      <td>599830.14</td>\n",
       "      <td>599830.14</td>\n",
       "    </tr>\n",
       "  </tbody>\n",
       "</table>\n",
       "<p>15064 rows × 7 columns</p>\n",
       "</div>"
      ],
      "text/plain": [
       "       Discharge Time (s)  Decrement 3.6-3.4V (s)  Max. Voltage Dischar. (V)  \\\n",
       "0                 2595.30             1151.488500                      3.670   \n",
       "1                 7408.64             1172.512500                      4.246   \n",
       "2                 7393.76             1112.992000                      4.249   \n",
       "3                 7385.50             1080.320667                      4.250   \n",
       "4                65022.75            29813.487000                      4.290   \n",
       "...                   ...                     ...                        ...   \n",
       "15059              770.44              179.523810                      3.773   \n",
       "15060              771.12              179.523810                      3.773   \n",
       "15061              769.12              179.357143                      3.773   \n",
       "15062              773.88              162.374667                      3.763   \n",
       "15063           677537.27           142740.640000                      4.206   \n",
       "\n",
       "       Min. Voltage Charg. (V)  Time at 4.15V (s)  Time constant current (s)  \\\n",
       "0                        3.211           5460.001                    6755.01   \n",
       "1                        3.220           5508.992                    6762.02   \n",
       "2                        3.224           5508.993                    6762.02   \n",
       "3                        3.225           5502.016                    6762.02   \n",
       "4                        3.398           5480.992                   53213.54   \n",
       "...                        ...                ...                        ...   \n",
       "15059                    3.742            922.775                    1412.38   \n",
       "15060                    3.744            915.512                    1412.31   \n",
       "15061                    3.742            915.513                    1412.31   \n",
       "15062                    3.839            539.375                    1148.00   \n",
       "15063                    3.305          49680.004                  599830.14   \n",
       "\n",
       "       Charging time (s)  \n",
       "0               10777.82  \n",
       "1               10500.35  \n",
       "2               10420.38  \n",
       "3               10322.81  \n",
       "4               56699.65  \n",
       "...                  ...  \n",
       "15059            6678.88  \n",
       "15060            6670.38  \n",
       "15061            6637.12  \n",
       "15062            7660.62  \n",
       "15063          599830.14  \n",
       "\n",
       "[15064 rows x 7 columns]"
      ]
     },
     "execution_count": 17,
     "metadata": {},
     "output_type": "execute_result"
    }
   ],
   "source": [
    "x"
   ]
  },
  {
   "cell_type": "code",
   "execution_count": 18,
   "id": "4d00bead",
   "metadata": {},
   "outputs": [],
   "source": [
    "# Split the data i to train test\n",
    "from sklearn.model_selection import train_test_split\n",
    "x_train,x_test,y_train,y_test = train_test_split(x,y ,test_size = 0.3,random_state =1)"
   ]
  },
  {
   "cell_type": "code",
   "execution_count": 19,
   "id": "e3c288ce",
   "metadata": {},
   "outputs": [],
   "source": [
    "# Feature scaalling\n",
    "# stardardize the dataset\n",
    "from sklearn.preprocessing import StandardScaler\n",
    "scaler = StandardScaler()"
   ]
  },
  {
   "cell_type": "code",
   "execution_count": 20,
   "id": "e47102fb",
   "metadata": {},
   "outputs": [],
   "source": [
    "X_train = scaler.fit_transform(x_train)"
   ]
  },
  {
   "cell_type": "code",
   "execution_count": 21,
   "id": "df085d94",
   "metadata": {},
   "outputs": [],
   "source": [
    "X_test = scaler.transform(x_test)"
   ]
  },
  {
   "cell_type": "markdown",
   "id": "bb5c3f5b",
   "metadata": {},
   "source": [
    "## Model Training"
   ]
  },
  {
   "cell_type": "code",
   "execution_count": 22,
   "id": "e11fbe30",
   "metadata": {},
   "outputs": [],
   "source": [
    "from sklearn.linear_model import LinearRegression\n",
    "lr = LinearRegression()"
   ]
  },
  {
   "cell_type": "code",
   "execution_count": 23,
   "id": "2afe07b8",
   "metadata": {},
   "outputs": [
    {
     "data": {
      "text/plain": [
       "LinearRegression()"
      ]
     },
     "execution_count": 23,
     "metadata": {},
     "output_type": "execute_result"
    }
   ],
   "source": [
    "lr.fit(X_train,y_train)"
   ]
  },
  {
   "cell_type": "code",
   "execution_count": 24,
   "id": "eb868f7b",
   "metadata": {},
   "outputs": [
    {
     "name": "stdout",
     "output_type": "stream",
     "text": [
      "[-270.29390369   -6.92810629  203.49004057 -115.65946271   36.63628711\n",
      "   80.14612146   83.97142609]\n",
      "555.5588012139618\n"
     ]
    }
   ],
   "source": [
    "# Print the cofficient and intercept\n",
    "print(lr.coef_)\n",
    "print(lr.intercept_)"
   ]
  },
  {
   "cell_type": "code",
   "execution_count": 25,
   "id": "4d9a248f",
   "metadata": {},
   "outputs": [
    {
     "data": {
      "text/plain": [
       "{'copy_X': True,\n",
       " 'fit_intercept': True,\n",
       " 'n_jobs': None,\n",
       " 'normalize': 'deprecated',\n",
       " 'positive': False}"
      ]
     },
     "execution_count": 25,
     "metadata": {},
     "output_type": "execute_result"
    }
   ],
   "source": [
    "# On which param the model has been train\n",
    "lr.get_params()"
   ]
  },
  {
   "cell_type": "code",
   "execution_count": 26,
   "id": "211ac190",
   "metadata": {},
   "outputs": [
    {
     "data": {
      "text/plain": [
       "array([519.18719164, 840.48303715, 591.96410122, ..., 937.14558608,\n",
       "       322.03441364, 534.31743801])"
      ]
     },
     "execution_count": 26,
     "metadata": {},
     "output_type": "execute_result"
    }
   ],
   "source": [
    "## Prediction on the test data \n",
    "lr_pre = lr.predict(X_test)\n",
    "lr_pre"
   ]
  },
  {
   "cell_type": "code",
   "execution_count": 27,
   "id": "1d37c732",
   "metadata": {},
   "outputs": [
    {
     "data": {
      "text/plain": [
       "10363     429\n",
       "13151     900\n",
       "6984      572\n",
       "12145     823\n",
       "1312      870\n",
       "         ... \n",
       "15010      53\n",
       "10377     415\n",
       "6573     1001\n",
       "11716     147\n",
       "12316     630\n",
       "Name: RUL, Length: 4520, dtype: int64"
      ]
     },
     "execution_count": 27,
     "metadata": {},
     "output_type": "execute_result"
    }
   ],
   "source": [
    "y_test"
   ]
  },
  {
   "cell_type": "code",
   "execution_count": 28,
   "id": "93223ac0",
   "metadata": {},
   "outputs": [
    {
     "data": {
      "text/plain": [
       "<matplotlib.collections.PathCollection at 0x2ac27b03f70>"
      ]
     },
     "execution_count": 28,
     "metadata": {},
     "output_type": "execute_result"
    },
    {
     "data": {
      "image/png": "[encoded data removed]",
      "text/plain": [
       "<Figure size 432x288 with 1 Axes>"
      ]
     },
     "metadata": {
      "needs_background": "light"
     },
     "output_type": "display_data"
    }
   ],
   "source": [
    "## Plot a scatter plot for the prediction\n",
    "plt.scatter(lr_pre,y_test)"
   ]
  },
  {
   "cell_type": "code",
   "execution_count": 29,
   "id": "c67329be",
   "metadata": {},
   "outputs": [
    {
     "data": {
      "text/plain": [
       "10363    -90.187192\n",
       "13151     59.516963\n",
       "6984     -19.964101\n",
       "12145    149.918896\n",
       "1312     166.926344\n",
       "            ...    \n",
       "15010    -74.171419\n",
       "10377   -102.507852\n",
       "6573      63.854414\n",
       "11716   -175.034414\n",
       "12316     95.682562\n",
       "Name: RUL, Length: 4520, dtype: float64"
      ]
     },
     "execution_count": 29,
     "metadata": {},
     "output_type": "execute_result"
    }
   ],
   "source": [
    "# Residuals(Errors)\n",
    "res = y_test-lr_pre\n",
    "res"
   ]
  },
  {
   "cell_type": "code",
   "execution_count": 30,
   "id": "93b1e1ec",
   "metadata": {},
   "outputs": [
    {
     "data": {
      "text/plain": [
       "<seaborn.axisgrid.FacetGrid at 0x2ac20ae0fa0>"
      ]
     },
     "execution_count": 30,
     "metadata": {},
     "output_type": "execute_result"
    },
    {
     "data": {
      "image/png": "[encoded data removed]",
      "text/plain": [
       "<Figure size 360x360 with 1 Axes>"
      ]
     },
     "metadata": {
      "needs_background": "light"
     },
     "output_type": "display_data"
    }
   ],
   "source": [
    "# Plot the residuals\n",
    "sns.displot(res,kind=\"kde\")"
   ]
  },
  {
   "cell_type": "code",
   "execution_count": 31,
   "id": "1b858260",
   "metadata": {},
   "outputs": [
    {
     "name": "stdout",
     "output_type": "stream",
     "text": [
      "93.64990610780704\n",
      "22290.858924839424\n",
      "149.3012355100902\n"
     ]
    }
   ],
   "source": [
    "from sklearn.metrics import mean_squared_error\n",
    "from sklearn.metrics import mean_absolute_error\n",
    "print(mean_absolute_error(y_test,lr_pre))\n",
    "print(mean_squared_error(y_test,lr_pre))\n",
    "print(np.sqrt(mean_squared_error(y_test,lr_pre)))"
   ]
  },
  {
   "cell_type": "markdown",
   "id": "61cab147",
   "metadata": {},
   "source": [
    "## R Square  and Adjusted RSquare"
   ]
  },
  {
   "cell_type": "code",
   "execution_count": 32,
   "id": "ad2ed8c0",
   "metadata": {},
   "outputs": [
    {
     "name": "stdout",
     "output_type": "stream",
     "text": [
      "0.7851479603275915\n"
     ]
    }
   ],
   "source": [
    "from sklearn.metrics import r2_score\n",
    "score = r2_score(y_test,lr_pre)\n",
    "print(score)"
   ]
  },
  {
   "cell_type": "markdown",
   "id": "fe00925a",
   "metadata": {},
   "source": [
    "## Pickling the Model file for Deployment"
   ]
  },
  {
   "cell_type": "code",
   "execution_count": 33,
   "id": "676f52a9",
   "metadata": {},
   "outputs": [],
   "source": [
    "import pickle"
   ]
  },
  {
   "cell_type": "code",
   "execution_count": 34,
   "id": "61a6e6a5",
   "metadata": {},
   "outputs": [],
   "source": [
    "pickle.dump(lr,open(\"regmodel.pkl\",\"wb\"))"
   ]
  },
  {
   "cell_type": "code",
   "execution_count": 35,
   "id": "b62c3083",
   "metadata": {},
   "outputs": [],
   "source": [
    "# load the model using pickle\n",
    "pic_model = pickle.load(open(\"regmodel.pkl\",\"rb\"))"
   ]
  },
  {
   "cell_type": "code",
   "execution_count": 37,
   "id": "17ca974b",
   "metadata": {},
   "outputs": [
    {
     "data": {
      "text/plain": [
       "array([519.18719164, 840.48303715, 591.96410122, ..., 937.14558608,\n",
       "       322.03441364, 534.31743801])"
      ]
     },
     "execution_count": 37,
     "metadata": {},
     "output_type": "execute_result"
    }
   ],
   "source": [
    "# Predict using pickle file.\n",
    "pic_model.predict(X_test)"
   ]
  },
  {
   "cell_type": "code",
   "execution_count": null,
   "id": "2be2980f",
   "metadata": {},
   "outputs": [],
   "source": []
  }
 ],
 "metadata": {
  "kernelspec": {
   "display_name": "Python 3 (ipykernel)",
   "language": "python",
   "name": "python3"
  },
  "language_info": {
   "codemirror_mode": {
    "name": "ipython",
    "version": 3
   },
   "file_extension": ".py",
   "mimetype": "text/x-python",
   "name": "python",
   "nbconvert_exporter": "python",
   "pygments_lexer": "ipython3",
   "version": "3.9.12"
  }
 },
 "nbformat": 4,
 "nbformat_minor": 5
}
